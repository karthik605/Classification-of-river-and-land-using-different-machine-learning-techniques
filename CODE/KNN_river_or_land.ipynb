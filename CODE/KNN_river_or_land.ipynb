{
  "nbformat": 4,
  "nbformat_minor": 0,
  "metadata": {
    "colab": {
      "provenance": []
    },
    "kernelspec": {
      "name": "python3",
      "display_name": "Python 3"
    },
    "language_info": {
      "name": "python"
    }
  },
  "cells": [
    {
      "cell_type": "code",
      "source": [
        "import pandas as pd\n",
        "import numpy as np\n",
        "import os\n",
        "from PIL import Image"
      ],
      "metadata": {
        "id": "mbZPkzGYFojQ"
      },
      "execution_count": null,
      "outputs": []
    },
    {
      "cell_type": "code",
      "source": [
        "image1 = Image.open('1.gif')\n",
        "#image1 = image1.resize((512, 512))\n",
        "array1 = np.array(image1)\n",
        "print(array1.size)\n",
        "print(array1[25][42])"
      ],
      "metadata": {
        "colab": {
          "base_uri": "https://localhost:8080/"
        },
        "id": "2D-wotr4GEbN",
        "outputId": "1fd38287-fdd9-4ac1-fb6f-bf78df0efc2b"
      },
      "execution_count": null,
      "outputs": [
        {
          "output_type": "stream",
          "name": "stdout",
          "text": [
            "262144\n",
            "6\n"
          ]
        }
      ]
    },
    {
      "cell_type": "code",
      "source": [
        "image2 = Image.open('2.gif')\n",
        "image2 = image2.resize((512, 512))\n",
        "array2 = np.array(image2)\n",
        "print(array2[25][42])"
      ],
      "metadata": {
        "colab": {
          "base_uri": "https://localhost:8080/"
        },
        "id": "24PLwq0rGHUb",
        "outputId": "a6287fae-3962-4fbe-96f9-862769044d88"
      },
      "execution_count": null,
      "outputs": [
        {
          "output_type": "stream",
          "name": "stdout",
          "text": [
            "9\n"
          ]
        }
      ]
    },
    {
      "cell_type": "code",
      "source": [
        "image3 = Image.open('3.gif')\n",
        "image3 = image3.resize((512, 512))\n",
        "array3 = np.array(image3)\n",
        "print(array3)"
      ],
      "metadata": {
        "colab": {
          "base_uri": "https://localhost:8080/"
        },
        "id": "curI-xfFGKZ6",
        "outputId": "da3905e2-1e48-4a96-92a2-5ad97419947d"
      },
      "execution_count": null,
      "outputs": [
        {
          "output_type": "stream",
          "name": "stdout",
          "text": [
            "[[12 15 12 ... 13 13 14]\n",
            " [12 13 14 ... 16 18 14]\n",
            " [12 12 13 ... 17 18 14]\n",
            " ...\n",
            " [ 9  9  7 ...  6  5  7]\n",
            " [10 11 10 ...  6  5  7]\n",
            " [11 15 15 ...  6  5  6]]\n"
          ]
        }
      ]
    },
    {
      "cell_type": "code",
      "source": [
        "image4 = Image.open('4.gif')\n",
        "image4 = image4.resize((512, 512))\n",
        "array4 = np.array(image4)\n",
        "print(array4)"
      ],
      "metadata": {
        "colab": {
          "base_uri": "https://localhost:8080/"
        },
        "id": "yJ4kwolAGNFh",
        "outputId": "176c71f0-6cfb-419d-e4fb-17ada356bc0d"
      },
      "execution_count": null,
      "outputs": [
        {
          "output_type": "stream",
          "name": "stdout",
          "text": [
            "[[28 27 26 ... 18 19 19]\n",
            " [29 29 28 ... 19 19 19]\n",
            " [29 29 27 ... 21 19 19]\n",
            " ...\n",
            " [19 17 19 ...  8 13 10]\n",
            " [23 19 21 ...  9 17  8]\n",
            " [25 24 24 ... 11 17  8]]\n"
          ]
        }
      ]
    },
    {
      "cell_type": "code",
      "source": [
        "river_points = pd.read_excel('data_river.xlsx',header=None)\n",
        "np.resize(river_points,(2,50))\n",
        "river_points = river_points.transpose()\n",
        "river_points.rename(columns={river_points.columns[0]: 'x',river_points.columns[1]: 'y'},inplace=True)\n",
        "l1=[1 for i in range(len(river_points['x']))]\n",
        "river_points['case']=l1\n",
        "\n",
        "print(river_points)\n",
        "\n",
        "river_points['x']=river_points['x']-1\n",
        "river_points['y']=river_points['y']-1\n",
        "river_points"
      ],
      "metadata": {
        "id": "IhFj9tDjGP8x"
      },
      "execution_count": null,
      "outputs": []
    },
    {
      "cell_type": "code",
      "source": [
        "nonriver_points = pd.read_excel('data_nonriver.xlsx',header=None)\n",
        "np.resize(nonriver_points,(2,50))\n",
        "nonriver_points = nonriver_points.transpose()\n",
        "nonriver_points.rename(columns={nonriver_points.columns[0]: 'x',nonriver_points.columns[1]: 'y'},inplace=True)\n",
        "l0=[0 for i in range(len(nonriver_points['x']))]\n",
        "nonriver_points['case']=l0\n",
        "nonriver_points\n",
        "nonriver_points['x']=nonriver_points['x']-1\n",
        "nonriver_points['y']=nonriver_points['y']-1"
      ],
      "metadata": {
        "id": "XlRZuwzUGSI9"
      },
      "execution_count": null,
      "outputs": []
    },
    {
      "cell_type": "code",
      "source": [
        "river_points = np.array(river_points)"
      ],
      "metadata": {
        "id": "Ft2XMdhvGY9h"
      },
      "execution_count": null,
      "outputs": []
    },
    {
      "cell_type": "code",
      "source": [
        "nonriver_points = np.array(nonriver_points)"
      ],
      "metadata": {
        "id": "-ohxn6TiGcWJ"
      },
      "execution_count": null,
      "outputs": []
    },
    {
      "cell_type": "code",
      "source": [
        "result = np.concatenate((nonriver_points, river_points))"
      ],
      "metadata": {
        "id": "dcx3HFQwGfqO"
      },
      "execution_count": null,
      "outputs": []
    },
    {
      "cell_type": "code",
      "source": [
        "result[0][:2]\n",
        "row,col= np.shape(result)\n",
        "pixel_matrix = []\n",
        "for i in range(row):\n",
        "    x,y,c=result[i][:3]\n",
        "    lst = [array1[x][y],array2[x][y],array3[x][y],array4[x][y],c]\n",
        "    pixel_matrix.append(lst)"
      ],
      "metadata": {
        "colab": {
          "base_uri": "https://localhost:8080/"
        },
        "id": "3QZxCjrjGjEm",
        "outputId": "499358b5-4e3f-4a79-e2ee-f9ff92fa9cb3"
      },
      "execution_count": null,
      "outputs": [
        {
          "output_type": "execute_result",
          "data": {
            "text/plain": [
              "[[5, 7, 9, 18, 0],\n",
              " [3, 5, 6, 13, 0],\n",
              " [8, 9, 13, 25, 0],\n",
              " [7, 9, 14, 19, 0],\n",
              " [10, 12, 14, 20, 0],\n",
              " [8, 9, 14, 17, 0],\n",
              " [6, 8, 10, 28, 0],\n",
              " [6, 7, 11, 17, 0],\n",
              " [5, 9, 12, 22, 0],\n",
              " [7, 8, 12, 24, 0],\n",
              " [7, 9, 13, 30, 0],\n",
              " [8, 8, 13, 16, 0],\n",
              " [6, 7, 6, 19, 0],\n",
              " [8, 9, 14, 20, 0],\n",
              " [6, 8, 7, 9, 0],\n",
              " [8, 10, 13, 28, 0],\n",
              " [7, 8, 10, 30, 0],\n",
              " [10, 11, 15, 15, 0],\n",
              " [8, 9, 10, 20, 0],\n",
              " [8, 9, 15, 13, 0],\n",
              " [7, 8, 13, 14, 0],\n",
              " [6, 8, 11, 18, 0],\n",
              " [3, 5, 6, 16, 0],\n",
              " [4, 6, 9, 17, 0],\n",
              " [5, 7, 8, 18, 0],\n",
              " [6, 8, 11, 20, 0],\n",
              " [8, 9, 13, 25, 0],\n",
              " [5, 7, 6, 26, 0],\n",
              " [10, 10, 12, 27, 0],\n",
              " [10, 10, 12, 26, 0],\n",
              " [9, 8, 10, 23, 0],\n",
              " [6, 7, 11, 19, 0],\n",
              " [7, 9, 11, 20, 0],\n",
              " [5, 7, 7, 25, 0],\n",
              " [3, 6, 7, 21, 0],\n",
              " [6, 8, 8, 37, 0],\n",
              " [9, 9, 13, 19, 0],\n",
              " [9, 10, 11, 30, 0],\n",
              " [8, 10, 14, 24, 0],\n",
              " [11, 15, 20, 30, 0],\n",
              " [12, 11, 13, 23, 0],\n",
              " [7, 9, 11, 23, 0],\n",
              " [8, 9, 11, 22, 0],\n",
              " [5, 8, 10, 22, 0],\n",
              " [5, 6, 9, 19, 0],\n",
              " [9, 12, 14, 22, 0],\n",
              " [7, 8, 10, 20, 0],\n",
              " [4, 6, 6, 15, 0],\n",
              " [7, 8, 13, 24, 0],\n",
              " [6, 8, 8, 25, 0],\n",
              " [6, 7, 10, 18, 0],\n",
              " [5, 8, 9, 19, 0],\n",
              " [14, 17, 28, 28, 0],\n",
              " [15, 15, 16, 30, 0],\n",
              " [6, 8, 11, 21, 0],\n",
              " [7, 8, 9, 22, 0],\n",
              " [9, 10, 13, 17, 0],\n",
              " [10, 11, 12, 19, 0],\n",
              " [8, 10, 20, 19, 0],\n",
              " [8, 8, 8, 23, 0],\n",
              " [10, 12, 14, 24, 0],\n",
              " [9, 11, 17, 24, 0],\n",
              " [12, 13, 14, 26, 0],\n",
              " [5, 7, 9, 22, 0],\n",
              " [8, 8, 13, 26, 0],\n",
              " [8, 9, 13, 18, 0],\n",
              " [8, 9, 12, 20, 0],\n",
              " [8, 9, 12, 17, 0],\n",
              " [7, 8, 11, 17, 0],\n",
              " [8, 10, 11, 17, 0],\n",
              " [10, 11, 14, 25, 0],\n",
              " [9, 9, 12, 18, 0],\n",
              " [7, 7, 8, 26, 0],\n",
              " [7, 8, 10, 19, 0],\n",
              " [10, 12, 16, 22, 0],\n",
              " [7, 7, 8, 16, 0],\n",
              " [5, 7, 8, 13, 0],\n",
              " [7, 9, 7, 21, 0],\n",
              " [6, 7, 6, 8, 0],\n",
              " [7, 8, 7, 6, 0],\n",
              " [5, 7, 5, 9, 0],\n",
              " [4, 6, 4, 16, 0],\n",
              " [3, 5, 6, 10, 0],\n",
              " [12, 12, 13, 18, 0],\n",
              " [9, 10, 16, 13, 0],\n",
              " [9, 9, 13, 14, 0],\n",
              " [7, 8, 10, 15, 0],\n",
              " [4, 5, 5, 14, 0],\n",
              " [15, 15, 21, 28, 0],\n",
              " [9, 9, 12, 14, 0],\n",
              " [8, 8, 13, 11, 0],\n",
              " [10, 10, 15, 14, 0],\n",
              " [8, 9, 14, 12, 0],\n",
              " [10, 10, 14, 16, 0],\n",
              " [6, 7, 9, 21, 0],\n",
              " [8, 8, 12, 11, 0],\n",
              " [6, 7, 7, 9, 0],\n",
              " [5, 8, 13, 14, 0],\n",
              " [6, 8, 10, 25, 0],\n",
              " [5, 5, 6, 18, 0],\n",
              " [12, 14, 18, 7, 1],\n",
              " [12, 14, 17, 7, 1],\n",
              " [12, 15, 17, 7, 1],\n",
              " [12, 14, 17, 7, 1],\n",
              " [12, 14, 17, 7, 1],\n",
              " [13, 14, 18, 6, 1],\n",
              " [13, 14, 17, 15, 1],\n",
              " [13, 15, 17, 6, 1],\n",
              " [11, 14, 17, 7, 1],\n",
              " [11, 13, 17, 7, 1],\n",
              " [11, 13, 17, 7, 1],\n",
              " [12, 14, 17, 8, 1],\n",
              " [11, 14, 18, 7, 1],\n",
              " [13, 15, 18, 7, 1],\n",
              " [13, 15, 18, 6, 1],\n",
              " [12, 14, 17, 6, 1],\n",
              " [11, 14, 16, 8, 1],\n",
              " [12, 14, 18, 7, 1],\n",
              " [12, 14, 18, 7, 1],\n",
              " [12, 14, 18, 8, 1],\n",
              " [12, 15, 18, 6, 1],\n",
              " [11, 14, 17, 7, 1],\n",
              " [12, 14, 18, 8, 1],\n",
              " [12, 13, 16, 7, 1],\n",
              " [12, 13, 17, 6, 1],\n",
              " [13, 14, 17, 7, 1],\n",
              " [13, 13, 17, 7, 1],\n",
              " [11, 14, 17, 7, 1],\n",
              " [13, 14, 18, 7, 1],\n",
              " [11, 14, 16, 7, 1],\n",
              " [12, 13, 16, 7, 1],\n",
              " [10, 12, 14, 8, 1],\n",
              " [11, 13, 17, 7, 1],\n",
              " [12, 13, 17, 7, 1],\n",
              " [12, 14, 18, 7, 1],\n",
              " [14, 16, 18, 6, 1],\n",
              " [12, 13, 18, 7, 1],\n",
              " [12, 13, 18, 7, 1],\n",
              " [12, 15, 19, 7, 1],\n",
              " [12, 14, 18, 6, 1],\n",
              " [11, 13, 17, 8, 1],\n",
              " [14, 14, 17, 11, 1],\n",
              " [13, 15, 19, 8, 1],\n",
              " [12, 14, 17, 7, 1],\n",
              " [12, 14, 18, 8, 1],\n",
              " [11, 13, 17, 8, 1],\n",
              " [12, 14, 17, 8, 1],\n",
              " [12, 14, 18, 7, 1],\n",
              " [12, 14, 17, 7, 1],\n",
              " [13, 15, 17, 15, 1]]"
            ]
          },
          "metadata": {},
          "execution_count": 13
        }
      ]
    },
    {
      "cell_type": "code",
      "source": [
        "import math\n",
        "dists=[]\n",
        "for i in range(150):\n",
        "    p1,p2,p3,p4 = pixel_matrix[i][:4]\n",
        "    dists.append(math.sqrt((float(p1) - float(array1[24][41]))**2 + (float(p2) - float(array2[24][41]))**2 + (float(p3) - float(array3[24][41]))**2 + (float(p4) - float(array4[24][41]))**2))\n",
        "dists\n",
        "dis_frames=pd.DataFrame()\n",
        "dis_frames['dists']=dists\n",
        "l=l0+l1\n",
        "dis_frames['case']=l\n",
        "dis_frames = dis_frames.sort_values(by = ['dists'])\n",
        "k = 5\n",
        "\n",
        "count_0=list(dis_frames['case'].head(k)).count(0)\n",
        "count_1=list(dis_frames['case'].head(k)).count(1)\n",
        "print(\"river\" if count_0 < count_1 else \"not river\")"
      ],
      "metadata": {
        "id": "MrBkvZynGoYD",
        "colab": {
          "base_uri": "https://localhost:8080/"
        },
        "outputId": "a50933e0-f21a-48cc-9421-5e13e9ac46a4"
      },
      "execution_count": null,
      "outputs": [
        {
          "output_type": "stream",
          "name": "stdout",
          "text": [
            "not river\n"
          ]
        }
      ]
    },
    {
      "cell_type": "code",
      "source": [
        "import matplotlib.pyplot as plt\n",
        "import numpy as np\n",
        "\n",
        "xpoints = np.array(river_points[:,0])\n",
        "ypoints = np.array(river_points[:,1])\n",
        "\n",
        "plt.plot(xpoints, ypoints, '*')\n",
        "\n",
        "xpoints = np.array(nonriver_points[:,0])\n",
        "ypoints = np.array(nonriver_points[:,1])\n",
        "plt.plot(xpoints, ypoints, '+')\n",
        "plt.show()"
      ],
      "metadata": {
        "colab": {
          "base_uri": "https://localhost:8080/",
          "height": 430
        },
        "id": "2uDpzJZ_GrWB",
        "outputId": "340e4e08-2763-43ac-c8e3-9f51b3fea671"
      },
      "execution_count": null,
      "outputs": [
        {
          "output_type": "display_data",
          "data": {
            "text/plain": [
              "<Figure size 640x480 with 1 Axes>"
            ],
            "image/png": "[encoded data removed]"
          },
          "metadata": {}
        }
      ]
    },
    {
      "cell_type": "code",
      "source": [
        "import math\n",
        "from collections import OrderedDict\n",
        "river_matrix = np.zeros((512,512))\n",
        "for i in range(512):\n",
        "    for j in range(512):\n",
        "        dists = []\n",
        "        for v in range(150):\n",
        "            p1,p2,p3,p4 = pixel_matrix[v][:4]\n",
        "            dists.append(math.sqrt((float(p1) - float(array1[i][j]))**2 + (float(p2) - float(array2[i][j]))**2 + (float(p3) - float(array3[i][j]))**2 + (float(p4) - float(array4[i][j]))**2))\n",
        "        s = np.array(dists)\n",
        "        sort_index = np.argsort(s)\n",
        "\n",
        "        count0 = 0\n",
        "        count1 = 0\n",
        "        for vi in range(k):\n",
        "          if(sort_index[vi] < 100):\n",
        "            count0 += 1\n",
        "          else:\n",
        "            count1 += 1\n",
        "\n",
        "        if count0 < count1:\n",
        "          river_matrix[i][j] = 1\n",
        "        else:\n",
        "          river_matrix[i][j] = 0\n",
        "\n"
      ],
      "metadata": {
        "colab": {
          "base_uri": "https://localhost:8080/"
        },
        "id": "A5PgmxZjGtuM",
        "outputId": "8e2eed55-31ed-4db7-9d28-63a610a0be18"
      },
      "execution_count": null,
      "outputs": [
        {
          "output_type": "execute_result",
          "data": {
            "text/plain": [
              "array([[0., 0., 0., ..., 0., 0., 0.],\n",
              "       [0., 0., 0., ..., 0., 0., 0.],\n",
              "       [0., 0., 0., ..., 0., 0., 0.],\n",
              "       ...,\n",
              "       [0., 0., 0., ..., 0., 0., 0.],\n",
              "       [0., 0., 0., ..., 0., 0., 0.],\n",
              "       [0., 0., 0., ..., 0., 0., 0.]])"
            ]
          },
          "metadata": {},
          "execution_count": 19
        }
      ]
    },
    {
      "cell_type": "code",
      "source": [
        "plt.imshow(river_matrix, cmap='Blues')"
      ],
      "metadata": {
        "colab": {
          "base_uri": "https://localhost:8080/",
          "height": 452
        },
        "id": "dggTTlR7dsV-",
        "outputId": "bfe5dd71-47a1-41e4-ab6b-67fc672b48d9"
      },
      "execution_count": null,
      "outputs": [
        {
          "output_type": "execute_result",
          "data": {
            "text/plain": [
              "<matplotlib.image.AxesImage at 0x7d9a4c65b310>"
            ]
          },
          "metadata": {},
          "execution_count": 23
        },
        {
          "output_type": "display_data",
          "data": {
            "text/plain": [
              "<Figure size 640x480 with 1 Axes>"
            ],
            "image/png": "[encoded data removed]"
          },
          "metadata": {}
        }
      ]
    },
    {
      "cell_type": "code",
      "source": [
        "count=0\n",
        "for i in range(150):\n",
        "  x,y,cs = result[i][:3]\n",
        "  if(river_matrix[x][y]==cs):\n",
        "    count+=1\n",
        "print((count/150)*100,\"accurate\")\n"
      ],
      "metadata": {
        "colab": {
          "base_uri": "https://localhost:8080/"
        },
        "id": "_uktcLaedtth",
        "outputId": "bb6045fb-a1f1-4746-fce4-b93e9b7ae43f"
      },
      "execution_count": null,
      "outputs": [
        {
          "output_type": "stream",
          "name": "stdout",
          "text": [
            "100.0 accurate\n"
          ]
        }
      ]
    }
  ]
}