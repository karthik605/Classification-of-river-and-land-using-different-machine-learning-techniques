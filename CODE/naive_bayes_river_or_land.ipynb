{
  "nbformat": 4,
  "nbformat_minor": 0,
  "metadata": {
    "colab": {
      "provenance": []
    },
    "kernelspec": {
      "name": "python3",
      "display_name": "Python 3"
    },
    "language_info": {
      "name": "python"
    }
  },
  "cells": [
    {
      "cell_type": "code",
      "execution_count": null,
      "metadata": {
        "id": "obyxKqvHYuEk"
      },
      "outputs": [],
      "source": [
        "import pandas as pd\n",
        "import numpy as np\n",
        "import os\n",
        "from PIL import Image\n",
        "import random\n",
        "import math\n",
        "import matplotlib.pyplot as plt"
      ]
    },
    {
      "cell_type": "code",
      "source": [
        "image1 = Image.open('1.gif')\n",
        "image1 = image1.resize((512, 512))\n",
        "array1 = np.array(image1)\n",
        "array1\n"
      ],
      "metadata": {
        "colab": {
          "base_uri": "https://localhost:8080/"
        },
        "id": "Gsa1npCmaYzh",
        "outputId": "8b6656d4-eddb-4258-fa84-dcab4b7620f5"
      },
      "execution_count": null,
      "outputs": [
        {
          "output_type": "execute_result",
          "data": {
            "text/plain": [
              "array([[ 9,  9,  6, ...,  9,  9,  9],\n",
              "       [ 9, 10,  9, ..., 12,  9,  9],\n",
              "       [ 9, 11,  7, ..., 10,  8,  8],\n",
              "       ...,\n",
              "       [ 7,  6,  6, ...,  6,  7,  5],\n",
              "       [ 8,  7,  8, ...,  6,  7,  5],\n",
              "       [ 9, 10, 10, ...,  6,  6,  5]], dtype=uint8)"
            ]
          },
          "metadata": {},
          "execution_count": 5
        }
      ]
    },
    {
      "cell_type": "code",
      "source": [
        "image2 = Image.open('2.gif')\n",
        "image2 = image2.resize((512, 512))\n",
        "array2 = np.array(image2)"
      ],
      "metadata": {
        "colab": {
          "base_uri": "https://localhost:8080/"
        },
        "id": "1Zo0Mn1Eaavp",
        "outputId": "acfd5517-7b49-40fc-ffc7-5ea668a141ec"
      },
      "execution_count": null,
      "outputs": [
        {
          "output_type": "execute_result",
          "data": {
            "text/plain": [
              "array([[11, 11,  9, ..., 11, 12, 12],\n",
              "       [10, 11, 11, ..., 14, 12, 12],\n",
              "       [10, 11, 10, ..., 12, 11, 12],\n",
              "       ...,\n",
              "       [ 9,  8,  7, ...,  6,  7,  7],\n",
              "       [ 9,  8,  9, ...,  7,  7,  6],\n",
              "       [10, 11, 12, ...,  6,  7,  6]], dtype=uint8)"
            ]
          },
          "metadata": {},
          "execution_count": 6
        }
      ]
    },
    {
      "cell_type": "code",
      "source": [
        "image3 = Image.open('3.gif')\n",
        "image3 = image3.resize((512, 512))\n",
        "array3 = np.array(image3)\n",
        "print(array3[20][156])"
      ],
      "metadata": {
        "colab": {
          "base_uri": "https://localhost:8080/"
        },
        "id": "Hcpyj219accM",
        "outputId": "f1cb1de1-bf64-4995-f97c-e09bc0e2a589"
      },
      "execution_count": null,
      "outputs": [
        {
          "output_type": "stream",
          "name": "stdout",
          "text": [
            "18\n"
          ]
        }
      ]
    },
    {
      "cell_type": "code",
      "source": [
        "image4 = Image.open('4.gif')\n",
        "image4 = image4.resize((512, 512))\n",
        "array4 = np.array(image4)\n"
      ],
      "metadata": {
        "colab": {
          "base_uri": "https://localhost:8080/"
        },
        "id": "qfKMk38AaeNp",
        "outputId": "539ab72b-a1be-4f0d-8238-c61e75654ed6"
      },
      "execution_count": null,
      "outputs": [
        {
          "output_type": "stream",
          "name": "stdout",
          "text": [
            "[[28 27 26 ... 18 19 19]\n",
            " [29 29 28 ... 19 19 19]\n",
            " [29 29 27 ... 21 19 19]\n",
            " ...\n",
            " [19 17 19 ...  8 13 10]\n",
            " [23 19 21 ...  9 17  8]\n",
            " [25 24 24 ... 11 17  8]]\n"
          ]
        }
      ]
    },
    {
      "cell_type": "code",
      "source": [
        "\n",
        "river_points = pd.read_excel('data_river.xlsx',header=None)\n",
        "np.resize(river_points,(2,50))\n",
        "river_points = river_points.transpose()\n",
        "river_points.rename(columns={river_points.columns[0]: 'x',river_points.columns[1]: 'y'},inplace=True)\n",
        "river_points = np.array(river_points)\n",
        "for i in range(50):\n",
        "  river_points[i][:2]-= 1"
      ],
      "metadata": {
        "id": "4yKsKCOYaf8B"
      },
      "execution_count": null,
      "outputs": []
    },
    {
      "cell_type": "code",
      "source": [
        "nonriver_points = pd.read_excel('data_nonriver.xlsx',header=None)\n",
        "np.resize(nonriver_points,(2,50))\n",
        "nonriver_points = nonriver_points.transpose()\n",
        "nonriver_points.rename(columns={nonriver_points.columns[0]: 'x',nonriver_points.columns[1]: 'y'},inplace=True)\n",
        "nonriver_points = np.array(nonriver_points)\n",
        "for i in range(100):\n",
        "  nonriver_points[i][:2]-= 1"
      ],
      "metadata": {
        "id": "Mr4O0abiekLc"
      },
      "execution_count": null,
      "outputs": []
    },
    {
      "cell_type": "code",
      "source": [
        "river_matrix = []\n",
        "for i in range(50):\n",
        "  x,y = river_points[i][:2]\n",
        "  lst = [array1[x][y],array2[x][y],array3[x][y],array4[x][y]]\n",
        "  river_matrix.append(lst)\n",
        "river_matrix = np.array(river_matrix,dtype=float)"
      ],
      "metadata": {
        "id": "BgETkKMgeoPO"
      },
      "execution_count": null,
      "outputs": []
    },
    {
      "cell_type": "code",
      "source": [
        "nonriver_matrix = []\n",
        "for i in range(100):\n",
        "  x,y = nonriver_points[i][:2]\n",
        "  lst = [array1[x][y],array2[x][y],array3[x][y],array4[x][y]]\n",
        "  nonriver_matrix.append(lst)\n",
        "\n",
        "nonriver_matrix = np.array(nonriver_matrix,dtype=float)"
      ],
      "metadata": {
        "id": "zPjZchX9ffhv"
      },
      "execution_count": null,
      "outputs": []
    },
    {
      "cell_type": "code",
      "source": [
        "rivermean_matrix = np.zeros((1,4))\n",
        "rivermean_matrix = np.sum(river_matrix,axis=0)\n",
        "rivermean_matrix=np.array(rivermean_matrix,dtype=float)\n",
        "print(rivermean_matrix)\n",
        "for i in range(4):\n",
        "    rivermean_matrix[i] =  (rivermean_matrix[i]/50.0)"
      ],
      "metadata": {
        "id": "CX9bFSQxhFav",
        "colab": {
          "base_uri": "https://localhost:8080/"
        },
        "outputId": "ca0a7842-8bf5-4b84-ec63-0da1509a363f"
      },
      "execution_count": null,
      "outputs": [
        {
          "output_type": "stream",
          "name": "stdout",
          "text": [
            "[601. 696. 865. 372.]\n"
          ]
        },
        {
          "output_type": "execute_result",
          "data": {
            "text/plain": [
              "array([12.02, 13.92, 17.3 ,  7.44])"
            ]
          },
          "metadata": {},
          "execution_count": 13
        }
      ]
    },
    {
      "cell_type": "code",
      "source": [
        "nonrivermean_matrix = np.zeros((1,4))\n",
        "nonrivermean_matrix = np.sum(nonriver_matrix, axis=0)\n",
        "nonrivermean_matrix=np.array(nonrivermean_matrix,dtype=float)\n",
        "print(nonrivermean_matrix)\n",
        "for i in range(0,len(nonrivermean_matrix)):\n",
        "    nonrivermean_matrix[i] /= 100"
      ],
      "metadata": {
        "colab": {
          "base_uri": "https://localhost:8080/"
        },
        "id": "pf9zYokXjtvV",
        "outputId": "9ad5418d-2789-418f-e02a-45f018caa6cc"
      },
      "execution_count": null,
      "outputs": [
        {
          "output_type": "stream",
          "name": "stdout",
          "text": [
            "[ 743.  872. 1125. 1976.]\n"
          ]
        },
        {
          "output_type": "execute_result",
          "data": {
            "text/plain": [
              "array([ 7.43,  8.72, 11.25, 19.76])"
            ]
          },
          "metadata": {},
          "execution_count": 14
        }
      ]
    },
    {
      "cell_type": "code",
      "source": [
        "# transpose river and non river matrix\n",
        "for i in range(4):\n",
        "  river_matrix[:, i] -= rivermean_matrix[i]\n",
        "  nonriver_matrix[:,i] -= nonrivermean_matrix[i]\n",
        "rivertranspose_matrix = river_matrix.transpose()\n",
        "nonrivertranspose_matrix = nonriver_matrix.transpose()\n",
        "# print(rivertranspose_matrix)\n",
        "print(river_matrix)\n",
        "# print(nonrivertranspose_matrix)\n",
        "print(nonriver_matrix)"
      ],
      "metadata": {
        "id": "O8zBwh7ok5N_",
        "colab": {
          "base_uri": "https://localhost:8080/"
        },
        "outputId": "1cc8c93e-32a3-4eba-f800-b122078fbb38"
      },
      "execution_count": null,
      "outputs": [
        {
          "output_type": "stream",
          "name": "stdout",
          "text": [
            "[[-0.02  0.08  0.7  -0.44]\n",
            " [-0.02  0.08 -0.3  -0.44]\n",
            " [-0.02  1.08 -0.3  -0.44]\n",
            " [-0.02  0.08 -0.3  -0.44]\n",
            " [-0.02  0.08 -0.3  -0.44]\n",
            " [ 0.98  0.08  0.7  -1.44]\n",
            " [ 0.98  0.08 -0.3   7.56]\n",
            " [ 0.98  1.08 -0.3  -1.44]\n",
            " [-1.02  0.08 -0.3  -0.44]\n",
            " [-1.02 -0.92 -0.3  -0.44]\n",
            " [-1.02 -0.92 -0.3  -0.44]\n",
            " [-0.02  0.08 -0.3   0.56]\n",
            " [-1.02  0.08  0.7  -0.44]\n",
            " [ 0.98  1.08  0.7  -0.44]\n",
            " [ 0.98  1.08  0.7  -1.44]\n",
            " [-0.02  0.08 -0.3  -1.44]\n",
            " [-1.02  0.08 -1.3   0.56]\n",
            " [-0.02  0.08  0.7  -0.44]\n",
            " [-0.02  0.08  0.7  -0.44]\n",
            " [-0.02  0.08  0.7   0.56]\n",
            " [-0.02  1.08  0.7  -1.44]\n",
            " [-1.02  0.08 -0.3  -0.44]\n",
            " [-0.02  0.08  0.7   0.56]\n",
            " [-0.02 -0.92 -1.3  -0.44]\n",
            " [-0.02 -0.92 -0.3  -1.44]\n",
            " [ 0.98  0.08 -0.3  -0.44]\n",
            " [ 0.98 -0.92 -0.3  -0.44]\n",
            " [-1.02  0.08 -0.3  -0.44]\n",
            " [ 0.98  0.08  0.7  -0.44]\n",
            " [-1.02  0.08 -1.3  -0.44]\n",
            " [-0.02 -0.92 -1.3  -0.44]\n",
            " [-2.02 -1.92 -3.3   0.56]\n",
            " [-1.02 -0.92 -0.3  -0.44]\n",
            " [-0.02 -0.92 -0.3  -0.44]\n",
            " [-0.02  0.08  0.7  -0.44]\n",
            " [ 1.98  2.08  0.7  -1.44]\n",
            " [-0.02 -0.92  0.7  -0.44]\n",
            " [-0.02 -0.92  0.7  -0.44]\n",
            " [-0.02  1.08  1.7  -0.44]\n",
            " [-0.02  0.08  0.7  -1.44]\n",
            " [-1.02 -0.92 -0.3   0.56]\n",
            " [ 1.98  0.08 -0.3   3.56]\n",
            " [ 0.98  1.08  1.7   0.56]\n",
            " [-0.02  0.08 -0.3  -0.44]\n",
            " [-0.02  0.08  0.7   0.56]\n",
            " [-1.02 -0.92 -0.3   0.56]\n",
            " [-0.02  0.08 -0.3   0.56]\n",
            " [-0.02  0.08  0.7  -0.44]\n",
            " [-0.02  0.08 -0.3  -0.44]\n",
            " [ 0.98  1.08 -0.3   7.56]]\n",
            "[[ -2.43  -1.72  -2.25  -1.76]\n",
            " [ -4.43  -3.72  -5.25  -6.76]\n",
            " [  0.57   0.28   1.75   5.24]\n",
            " [ -0.43   0.28   2.75  -0.76]\n",
            " [  2.57   3.28   2.75   0.24]\n",
            " [  0.57   0.28   2.75  -2.76]\n",
            " [ -1.43  -0.72  -1.25   8.24]\n",
            " [ -1.43  -1.72  -0.25  -2.76]\n",
            " [ -2.43   0.28   0.75   2.24]\n",
            " [ -0.43  -0.72   0.75   4.24]\n",
            " [ -0.43   0.28   1.75  10.24]\n",
            " [  0.57  -0.72   1.75  -3.76]\n",
            " [ -1.43  -1.72  -5.25  -0.76]\n",
            " [  0.57   0.28   2.75   0.24]\n",
            " [ -1.43  -0.72  -4.25 -10.76]\n",
            " [  0.57   1.28   1.75   8.24]\n",
            " [ -0.43  -0.72  -1.25  10.24]\n",
            " [  2.57   2.28   3.75  -4.76]\n",
            " [  0.57   0.28  -1.25   0.24]\n",
            " [  0.57   0.28   3.75  -6.76]\n",
            " [ -0.43  -0.72   1.75  -5.76]\n",
            " [ -1.43  -0.72  -0.25  -1.76]\n",
            " [ -4.43  -3.72  -5.25  -3.76]\n",
            " [ -3.43  -2.72  -2.25  -2.76]\n",
            " [ -2.43  -1.72  -3.25  -1.76]\n",
            " [ -1.43  -0.72  -0.25   0.24]\n",
            " [  0.57   0.28   1.75   5.24]\n",
            " [ -2.43  -1.72  -5.25   6.24]\n",
            " [  2.57   1.28   0.75   7.24]\n",
            " [  2.57   1.28   0.75   6.24]\n",
            " [  1.57  -0.72  -1.25   3.24]\n",
            " [ -1.43  -1.72  -0.25  -0.76]\n",
            " [ -0.43   0.28  -0.25   0.24]\n",
            " [ -2.43  -1.72  -4.25   5.24]\n",
            " [ -4.43  -2.72  -4.25   1.24]\n",
            " [ -1.43  -0.72  -3.25  17.24]\n",
            " [  1.57   0.28   1.75  -0.76]\n",
            " [  1.57   1.28  -0.25  10.24]\n",
            " [  0.57   1.28   2.75   4.24]\n",
            " [  3.57   6.28   8.75  10.24]\n",
            " [  4.57   2.28   1.75   3.24]\n",
            " [ -0.43   0.28  -0.25   3.24]\n",
            " [  0.57   0.28  -0.25   2.24]\n",
            " [ -2.43  -0.72  -1.25   2.24]\n",
            " [ -2.43  -2.72  -2.25  -0.76]\n",
            " [  1.57   3.28   2.75   2.24]\n",
            " [ -0.43  -0.72  -1.25   0.24]\n",
            " [ -3.43  -2.72  -5.25  -4.76]\n",
            " [ -0.43  -0.72   1.75   4.24]\n",
            " [ -1.43  -0.72  -3.25   5.24]\n",
            " [ -1.43  -1.72  -1.25  -1.76]\n",
            " [ -2.43  -0.72  -2.25  -0.76]\n",
            " [  6.57   8.28  16.75   8.24]\n",
            " [  7.57   6.28   4.75  10.24]\n",
            " [ -1.43  -0.72  -0.25   1.24]\n",
            " [ -0.43  -0.72  -2.25   2.24]\n",
            " [  1.57   1.28   1.75  -2.76]\n",
            " [  2.57   2.28   0.75  -0.76]\n",
            " [  0.57   1.28   8.75  -0.76]\n",
            " [  0.57  -0.72  -3.25   3.24]\n",
            " [  2.57   3.28   2.75   4.24]\n",
            " [  1.57   2.28   5.75   4.24]\n",
            " [  4.57   4.28   2.75   6.24]\n",
            " [ -2.43  -1.72  -2.25   2.24]\n",
            " [  0.57  -0.72   1.75   6.24]\n",
            " [  0.57   0.28   1.75  -1.76]\n",
            " [  0.57   0.28   0.75   0.24]\n",
            " [  0.57   0.28   0.75  -2.76]\n",
            " [ -0.43  -0.72  -0.25  -2.76]\n",
            " [  0.57   1.28  -0.25  -2.76]\n",
            " [  2.57   2.28   2.75   5.24]\n",
            " [  1.57   0.28   0.75  -1.76]\n",
            " [ -0.43  -1.72  -3.25   6.24]\n",
            " [ -0.43  -0.72  -1.25  -0.76]\n",
            " [  2.57   3.28   4.75   2.24]\n",
            " [ -0.43  -1.72  -3.25  -3.76]\n",
            " [ -2.43  -1.72  -3.25  -6.76]\n",
            " [ -0.43   0.28  -4.25   1.24]\n",
            " [ -1.43  -1.72  -5.25 -11.76]\n",
            " [ -0.43  -0.72  -4.25 -13.76]\n",
            " [ -2.43  -1.72  -6.25 -10.76]\n",
            " [ -3.43  -2.72  -7.25  -3.76]\n",
            " [ -4.43  -3.72  -5.25  -9.76]\n",
            " [  4.57   3.28   1.75  -1.76]\n",
            " [  1.57   1.28   4.75  -6.76]\n",
            " [  1.57   0.28   1.75  -5.76]\n",
            " [ -0.43  -0.72  -1.25  -4.76]\n",
            " [ -3.43  -3.72  -6.25  -5.76]\n",
            " [  7.57   6.28   9.75   8.24]\n",
            " [  1.57   0.28   0.75  -5.76]\n",
            " [  0.57  -0.72   1.75  -8.76]\n",
            " [  2.57   1.28   3.75  -5.76]\n",
            " [  0.57   0.28   2.75  -7.76]\n",
            " [  2.57   1.28   2.75  -3.76]\n",
            " [ -1.43  -1.72  -2.25   1.24]\n",
            " [  0.57  -0.72   0.75  -8.76]\n",
            " [ -1.43  -1.72  -4.25 -10.76]\n",
            " [ -2.43  -0.72   1.75  -5.76]\n",
            " [ -1.43  -0.72  -1.25   5.24]\n",
            " [ -2.43  -3.72  -5.25  -1.76]]\n"
          ]
        }
      ]
    },
    {
      "cell_type": "code",
      "source": [
        "\n",
        "river_covariance = np.dot(rivertranspose_matrix, river_matrix)\n",
        "nonriver_covariance = np.dot(nonrivertranspose_matrix,nonriver_matrix)\n",
        "\n",
        "print(river_covariance)\n",
        "print(nonriver_covariance)\n",
        "river_covariance = river_covariance.astype(float)\n",
        "nonriver_covariance = nonriver_covariance.astype(float)\n",
        "river_covariance = river_covariance /50\n",
        "nonriver_covariance=nonriver_covariance/100\n",
        "# for i in range(4):\n",
        "#    river_covariance[:,i] /= rivermean_matrix[i]\n",
        "#    nonriver_covariance[:,i] /= nonrivermean_matrix[i]\n",
        "print(river_covariance)\n",
        "print(nonriver_covariance)\n"
      ],
      "metadata": {
        "colab": {
          "base_uri": "https://localhost:8080/"
        },
        "id": "MinhoYaQm-bt",
        "outputId": "684d95f4-8ee5-47a3-8925-52e573d8e3cd"
      },
      "execution_count": null,
      "outputs": [
        {
          "output_type": "stream",
          "name": "stdout",
          "text": [
            "[[ 32.98  17.08  14.7   14.56]\n",
            " [ 17.08  27.68  16.2    2.76]\n",
            " [ 14.7   16.2   34.5  -10.6 ]\n",
            " [ 14.56   2.76 -10.6  152.32]]\n",
            "[[ 566.51  472.04  692.25  451.32]\n",
            " [ 472.04  472.16  684.    515.28]\n",
            " [ 692.25  684.   1394.75  648.  ]\n",
            " [ 451.32  515.28  648.   3266.24]]\n",
            "[[ 0.6596  0.3416  0.294   0.2912]\n",
            " [ 0.3416  0.5536  0.324   0.0552]\n",
            " [ 0.294   0.324   0.69   -0.212 ]\n",
            " [ 0.2912  0.0552 -0.212   3.0464]]\n",
            "[[ 5.6651  4.7204  6.9225  4.5132]\n",
            " [ 4.7204  4.7216  6.84    5.1528]\n",
            " [ 6.9225  6.84   13.9475  6.48  ]\n",
            " [ 4.5132  5.1528  6.48   32.6624]]\n"
          ]
        }
      ]
    },
    {
      "cell_type": "code",
      "source": [
        "import math\n",
        "out_class = np.zeros((512,512))\n",
        "P1 = 0.5\n",
        "P2 = 0.5\n",
        "for i in range(512):\n",
        "  for j in range(512):\n",
        "    test_data = [array1[i][j], array2[i][j], array3[i][j], array4[i][j]]\n",
        "    test_data = np.array(test_data)\n",
        "    river_class = ((np.transpose(test_data - rivermean_matrix)) @ (np.linalg.inv(river_covariance))) @ (test_data - rivermean_matrix)\n",
        "    nonriver_class = ((np.transpose(test_data - nonrivermean_matrix)) @ (np.linalg.inv(nonriver_covariance))) @ (test_data - nonrivermean_matrix)\n",
        "    # print(river_class)\n",
        "    # print(nonriver_class)\n",
        "    # x=input()\n",
        "    p1 = (((np.exp(-0.5*(river_class)))) / (math.sqrt(np.linalg.det(river_covariance))))\n",
        "    p2 = (( (np.exp(-0.5*(nonriver_class)))) / (math.sqrt(np.linalg.det(nonriver_covariance)) ))\n",
        "    if((P1*p1) >= (P2*p2)):\n",
        "      out_class[i][j] = 255\n",
        "    else:\n",
        "      out_class[i][j] = 1\n"
      ],
      "metadata": {
        "id": "AiNRSR2Dn1UH"
      },
      "execution_count": null,
      "outputs": []
    },
    {
      "cell_type": "code",
      "source": [
        "plt.imshow(out_class, cmap='Blues')"
      ],
      "metadata": {
        "colab": {
          "base_uri": "https://localhost:8080/",
          "height": 452
        },
        "id": "8lw6Fq6uJBFB",
        "outputId": "13c12307-1ddf-4b5a-eabc-cc1255107783"
      },
      "execution_count": null,
      "outputs": [
        {
          "output_type": "execute_result",
          "data": {
            "text/plain": [
              "<matplotlib.image.AxesImage at 0x7f1bba9dc490>"
            ]
          },
          "metadata": {},
          "execution_count": 19
        },
        {
          "output_type": "display_data",
          "data": {
            "text/plain": [
              "<Figure size 640x480 with 1 Axes>"
            ],
            "image/png": "[encoded data removed]"
          },
          "metadata": {}
        }
      ]
    },
    {
      "cell_type": "code",
      "source": [],
      "metadata": {
        "id": "3fkvD8KAAqFh"
      },
      "execution_count": null,
      "outputs": []
    },
    {
      "cell_type": "code",
      "source": [],
      "metadata": {
        "id": "z8ML5p2-JgnC"
      },
      "execution_count": null,
      "outputs": []
    }
  ]
}